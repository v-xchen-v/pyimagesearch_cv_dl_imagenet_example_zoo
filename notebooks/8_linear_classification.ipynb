{
 "cells": [
  {
   "cell_type": "code",
   "execution_count": 27,
   "metadata": {},
   "outputs": [],
   "source": [
    "import numpy as np\n",
    "import cv2"
   ]
  },
  {
   "cell_type": "code",
   "execution_count": 28,
   "metadata": {},
   "outputs": [],
   "source": [
    "# initialize the class labels and set the seed of the pseudorandom number generator so we can reproduce our results\n",
    "labels = [\"dog\", \"cat\", \"panda\"]\n",
    "np.random.seed(1)"
   ]
  },
  {
   "cell_type": "code",
   "execution_count": 29,
   "metadata": {},
   "outputs": [],
   "source": [
    "#  randomly initialize our weight matrix and bias vector -- in a *real* training and classification task, these parameters would be *learned* by our model, but for the sake of this example, let's use random values\n",
    "W = np.random.randn(3, 3072)\n",
    "b = np.random.randn(3)"
   ]
  },
  {
   "cell_type": "code",
   "execution_count": 30,
   "metadata": {},
   "outputs": [],
   "source": [
    "# load our example image, resize it, and then flatten it into our \"feature vector\" representation\n",
    "orig = cv2.imread(\"../pyimagesearch/data/beagle.png\")\n",
    "image = cv2.resize(orig, (32, 32)).flatten()\n"
   ]
  },
  {
   "cell_type": "code",
   "execution_count": 31,
   "metadata": {},
   "outputs": [],
   "source": [
    "# compute the output scores by taking the dot product between the weight matrix and image pixels, followed by adding in the bias\n",
    "scores = W.dot(image) + b"
   ]
  },
  {
   "cell_type": "code",
   "execution_count": 32,
   "metadata": {},
   "outputs": [
    {
     "name": "stdout",
     "output_type": "stream",
     "text": [
      "[INFO] dog: 7963.93\n",
      "[INFO] cat: -2930.99\n",
      "[INFO] panda: 3362.47\n"
     ]
    },
    {
     "data": {
      "application/vnd.jupyter.widget-view+json": {
       "model_id": "8b436f3ee6684acb984f6d421e8a62a0",
       "version_major": 2,
       "version_minor": 0
      },
      "text/plain": [
       "HBox(children=(Button(button_style='danger', description='Stop', style=ButtonStyle()), HBox(children=(Label(va…"
      ]
     },
     "metadata": {},
     "output_type": "display_data"
    },
    {
     "data": {
      "application/vnd.jupyter.widget-view+json": {
       "model_id": "e0f20de03d7c400ea74486fa9211f168",
       "version_major": 2,
       "version_minor": 0
      },
      "text/plain": [
       "VBox(children=(HTML(value='<center>Image</center>'), Canvas()), layout=Layout(border_bottom='1.5px solid', bor…"
      ]
     },
     "metadata": {},
     "output_type": "display_data"
    }
   ],
   "source": [
    "# loop over the scores + labels and display them\n",
    "for (label, score) in zip(labels, scores):\n",
    "    print(\"[INFO] {}: {:.2f}\".format(label, score))\n",
    "\n",
    "# draw the label with the highest score on the image as our prediction\n",
    "cv2.putText(orig, \"Label: {}\".format(labels[np.argmax(scores)]), (10, 30), cv2.FONT_HERSHEY_SIMPLEX, 0.9, (0, 255, 0), 2)\n",
    "\n",
    "# display our input image\n",
    "import opencv_jupyter_ui as jcv2\n",
    "jcv2.imshow(\"Image\", orig)\n",
    "\n"
   ]
  }
 ],
 "metadata": {
  "kernelspec": {
   "display_name": ".venv",
   "language": "python",
   "name": "python3"
  },
  "language_info": {
   "codemirror_mode": {
    "name": "ipython",
    "version": 3
   },
   "file_extension": ".py",
   "mimetype": "text/x-python",
   "name": "python",
   "nbconvert_exporter": "python",
   "pygments_lexer": "ipython3",
   "version": "3.8.10"
  }
 },
 "nbformat": 4,
 "nbformat_minor": 2
}
